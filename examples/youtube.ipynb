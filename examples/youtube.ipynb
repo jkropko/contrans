{
 "cells": [
  {
   "cell_type": "code",
   "execution_count": 1,
   "id": "be5ddc0e-da83-4223-aa4f-1e9b108aa485",
   "metadata": {},
   "outputs": [],
   "source": [
    "import numpy as np\n",
    "import pandas as pd\n",
    "import requests\n",
    "import json\n",
    "import pymongo\n",
    "from bson.json_util import loads, dumps\n",
    "import os\n",
    "from google_auth_oauthlib.flow import InstalledAppFlow\n",
    "from google.auth.transport.requests import Request\n",
    "youtube_api_key = os.environ['youtube_api_key']"
   ]
  },
  {
   "cell_type": "code",
   "execution_count": 2,
   "id": "b32bfb6e-67ed-461f-8088-0de910e674e1",
   "metadata": {},
   "outputs": [],
   "source": [
    "flow = InstalledAppFlow.from_client_secrets_file('client_secrets.json',\n",
    "                                                scopes = ['https://www.googleapis.com/auth/youtube.readonly'])"
   ]
  },
  {
   "cell_type": "code",
   "execution_count": null,
   "id": "27077e10-1a06-408f-b73d-201c4c5a47f5",
   "metadata": {},
   "outputs": [
    {
     "name": "stdout",
     "output_type": "stream",
     "text": [
      "Please visit this URL to authorize this application: https://accounts.google.com/o/oauth2/auth?response_type=code&client_id=403063551826-q46trc7f7tk6f5dptfb3llar1jdk755p.apps.googleusercontent.com&redirect_uri=http%3A%2F%2Flocalhost%3A8080%2F&scope=https%3A%2F%2Fwww.googleapis.com%2Fauth%2Fyoutube.readonly&state=rd7E1xiC9FxfBkhYrjJr8LMzzvQAf1&prompt=consent&access_type=offline\n"
     ]
    }
   ],
   "source": [
    "flow.run_local_server(port=8080, prompt='consent')"
   ]
  },
  {
   "cell_type": "code",
   "execution_count": null,
   "id": "e0d10911-53d1-4a15-8073-f3de9c9ddb1f",
   "metadata": {},
   "outputs": [],
   "source": [
    "credentials = flow.credentials.to_json()"
   ]
  },
  {
   "cell_type": "code",
   "execution_count": null,
   "id": "e5cee702-be64-40f6-be11-bd6f5de3bfa3",
   "metadata": {},
   "outputs": [],
   "source": [
    "useragent_url = 'https://httpbin.org/user-agent'\n",
    "r = requests.get(useragent_url)\n",
    "useragent = json.loads(r.text)['user-agent']"
   ]
  },
  {
   "cell_type": "code",
   "execution_count": null,
   "id": "40179889-d26c-4b98-b6e6-9c57089b3408",
   "metadata": {},
   "outputs": [],
   "source": [
    "# Make sure you get an API key specifically for the YouTube Data API\n",
    "# See https://developers.google.com/youtube/v3/docs/search/list#go\n",
    "root = 'https://youtube.googleapis.com/youtube/v3'\n",
    "endpoint = '/search'\n",
    "headers = {'User-agent': useragent,\n",
    "          'From': 'jkropko@virginia.edu',\n",
    "          'Accept': 'application/json'}\n",
    "params = {'part':'id,snippet',\n",
    "          'maxResults': 50,\n",
    "          'q':'hiit workout',\n",
    "          'type':'video',\n",
    "          'videoCaption':'closedCaption',\n",
    "          'topicId':'/m/027x7n',\n",
    "          'key': youtube_api_key}\n",
    "r = requests.get(root + endpoint,\n",
    "                headers=headers,\n",
    "                params=params)\n",
    "r"
   ]
  },
  {
   "cell_type": "code",
   "execution_count": null,
   "id": "0d5f6571-0ad2-4d87-9380-42b6f00264ab",
   "metadata": {},
   "outputs": [],
   "source": [
    "onevideo = r.json()['items'][0]\n",
    "onevideo"
   ]
  },
  {
   "cell_type": "code",
   "execution_count": null,
   "id": "d49cdf12-c9f5-40fa-917d-934c5ba18785",
   "metadata": {},
   "outputs": [],
   "source": [
    "videoid = onevideo['id']['videoId']\n",
    "endpoint = f'/captions/{videoid}'\n",
    "params = {'key': youtube_api_key}\n",
    "r = requests.get(root + endpoint,\n",
    "                headers=headers,\n",
    "                params=params)\n",
    "r"
   ]
  },
  {
   "cell_type": "code",
   "execution_count": null,
   "id": "4c8eda1a-caaf-42d6-b03b-ea89c4d2ecb6",
   "metadata": {},
   "outputs": [],
   "source": [
    "r.json()"
   ]
  },
  {
   "cell_type": "code",
   "execution_count": null,
   "id": "4503cedb-2662-4f36-a404-15336330f9ca",
   "metadata": {},
   "outputs": [],
   "source": []
  }
 ],
 "metadata": {
  "kernelspec": {
   "display_name": "Python 3 (ipykernel)",
   "language": "python",
   "name": "python3"
  },
  "language_info": {
   "codemirror_mode": {
    "name": "ipython",
    "version": 3
   },
   "file_extension": ".py",
   "mimetype": "text/x-python",
   "name": "python",
   "nbconvert_exporter": "python",
   "pygments_lexer": "ipython3",
   "version": "3.11.0"
  }
 },
 "nbformat": 4,
 "nbformat_minor": 5
}
