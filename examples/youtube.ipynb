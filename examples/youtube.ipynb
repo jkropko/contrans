{
 "cells": [
  {
   "cell_type": "code",
   "execution_count": 5,
   "id": "be5ddc0e-da83-4223-aa4f-1e9b108aa485",
   "metadata": {},
   "outputs": [],
   "source": [
    "import numpy as np\n",
    "import pandas as pd\n",
    "import requests\n",
    "import json\n",
    "import pymongo\n",
    "from bson.json_util import loads, dumps\n",
    "import os\n",
    "youtube_api_key = os.environ['youtube_api_key']"
   ]
  },
  {
   "cell_type": "code",
   "execution_count": 6,
   "id": "e5cee702-be64-40f6-be11-bd6f5de3bfa3",
   "metadata": {},
   "outputs": [],
   "source": [
    "useragent_url = 'https://httpbin.org/user-agent'\n",
    "r = requests.get(useragent_url)\n",
    "useragent = json.loads(r.text)['user-agent']"
   ]
  },
  {
   "cell_type": "code",
   "execution_count": 27,
   "id": "40179889-d26c-4b98-b6e6-9c57089b3408",
   "metadata": {},
   "outputs": [
    {
     "data": {
      "text/plain": [
       "<Response [200]>"
      ]
     },
     "execution_count": 27,
     "metadata": {},
     "output_type": "execute_result"
    }
   ],
   "source": [
    "# Make sure you get an API key specifically for the YouTube Data API\n",
    "# See https://developers.google.com/youtube/v3/docs/search/list#go\n",
    "root = 'https://youtube.googleapis.com/youtube/v3'\n",
    "endpoint = '/search'\n",
    "headers = {'User-agent': useragent,\n",
    "          'From': 'jkropko@virginia.edu',\n",
    "          'Accept': 'application/json'}\n",
    "params = {'part':'id,snippet',\n",
    "          'maxResults': 50,\n",
    "          'q':'hiit workout',\n",
    "          'type':'video',\n",
    "          'videoCaption':'closedCaption',\n",
    "          'topicId':'/m/027x7n',\n",
    "          'key': youtube_api_key}\n",
    "r = requests.get(root + endpoint,\n",
    "                headers=headers,\n",
    "                params=params)\n",
    "r"
   ]
  },
  {
   "cell_type": "code",
   "execution_count": 31,
   "id": "0d5f6571-0ad2-4d87-9380-42b6f00264ab",
   "metadata": {},
   "outputs": [
    {
     "data": {
      "text/plain": [
       "{'kind': 'youtube#searchResult',\n",
       " 'etag': 'edeIlrps-jlvtC68e7LLjpJlBqQ',\n",
       " 'id': {'kind': 'youtube#video', 'videoId': 'edIK5SZYMZo'},\n",
       " 'snippet': {'publishedAt': '2020-10-05T00:00:05Z',\n",
       "  'channelId': 'UCqjwF8rxRsotnojGl4gM0Zw',\n",
       "  'title': 'Replace Treadmill With This 10 Min HIIT/CARDIO Workout',\n",
       "  'description': 'Join Chris Heria as he shows you how to Replace Treadmill With this 10 Min HIIT/CARDIO Workout that is going to build muscle ...',\n",
       "  'thumbnails': {'default': {'url': 'https://i.ytimg.com/vi/edIK5SZYMZo/default.jpg',\n",
       "    'width': 120,\n",
       "    'height': 90},\n",
       "   'medium': {'url': 'https://i.ytimg.com/vi/edIK5SZYMZo/mqdefault.jpg',\n",
       "    'width': 320,\n",
       "    'height': 180},\n",
       "   'high': {'url': 'https://i.ytimg.com/vi/edIK5SZYMZo/hqdefault.jpg',\n",
       "    'width': 480,\n",
       "    'height': 360}},\n",
       "  'channelTitle': 'THENX',\n",
       "  'liveBroadcastContent': 'none',\n",
       "  'publishTime': '2020-10-05T00:00:05Z'}}"
      ]
     },
     "execution_count": 31,
     "metadata": {},
     "output_type": "execute_result"
    }
   ],
   "source": [
    "onevideo = r.json()['items'][0]\n",
    "onevideo"
   ]
  },
  {
   "cell_type": "code",
   "execution_count": 32,
   "id": "d49cdf12-c9f5-40fa-917d-934c5ba18785",
   "metadata": {},
   "outputs": [
    {
     "data": {
      "text/plain": [
       "<Response [401]>"
      ]
     },
     "execution_count": 32,
     "metadata": {},
     "output_type": "execute_result"
    }
   ],
   "source": [
    "videoid = onevideo['id']['videoId']\n",
    "endpoint = f'/captions/{videoid}'\n",
    "params = {'key': youtube_api_key}\n",
    "r = requests.get(root + endpoint,\n",
    "                headers=headers,\n",
    "                params=params)\n",
    "r"
   ]
  },
  {
   "cell_type": "code",
   "execution_count": 33,
   "id": "4c8eda1a-caaf-42d6-b03b-ea89c4d2ecb6",
   "metadata": {},
   "outputs": [
    {
     "data": {
      "text/plain": [
       "{'error': {'code': 401,\n",
       "  'message': 'API keys are not supported by this API. Expected OAuth2 access token or other authentication credentials that assert a principal. See https://cloud.google.com/docs/authentication',\n",
       "  'errors': [{'message': 'Login Required.',\n",
       "    'domain': 'global',\n",
       "    'reason': 'required',\n",
       "    'location': 'Authorization',\n",
       "    'locationType': 'header'}],\n",
       "  'status': 'UNAUTHENTICATED',\n",
       "  'details': [{'@type': 'type.googleapis.com/google.rpc.ErrorInfo',\n",
       "    'reason': 'CREDENTIALS_MISSING',\n",
       "    'domain': 'googleapis.com',\n",
       "    'metadata': {'method': 'youtube.api.v3.V3DataCaptionService.Download',\n",
       "     'service': 'youtube.googleapis.com'}}]}}"
      ]
     },
     "execution_count": 33,
     "metadata": {},
     "output_type": "execute_result"
    }
   ],
   "source": [
    "r.json()"
   ]
  },
  {
   "cell_type": "code",
   "execution_count": null,
   "id": "4503cedb-2662-4f36-a404-15336330f9ca",
   "metadata": {},
   "outputs": [],
   "source": []
  }
 ],
 "metadata": {
  "kernelspec": {
   "display_name": "Python 3 (ipykernel)",
   "language": "python",
   "name": "python3"
  },
  "language_info": {
   "codemirror_mode": {
    "name": "ipython",
    "version": 3
   },
   "file_extension": ".py",
   "mimetype": "text/x-python",
   "name": "python",
   "nbconvert_exporter": "python",
   "pygments_lexer": "ipython3",
   "version": "3.11.0"
  }
 },
 "nbformat": 4,
 "nbformat_minor": 5
}
