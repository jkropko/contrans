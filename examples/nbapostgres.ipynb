{
 "cells": [
  {
   "cell_type": "code",
   "execution_count": 10,
   "id": "ab827c72-88db-40fb-b8e8-9165259e77de",
   "metadata": {},
   "outputs": [],
   "source": [
    "import numpy as np\n",
    "import pandas as pd\n",
    "import psycopg2\n",
    "from sqlalchemy import create_engine\n",
    "import sqlite3\n",
    "import os"
   ]
  },
  {
   "cell_type": "markdown",
   "id": "5946d39f-494d-4616-95d6-e35893e1dab1",
   "metadata": {},
   "source": [
    "### 1. Get the data from our existing SQlite DB"
   ]
  },
  {
   "cell_type": "code",
   "execution_count": 2,
   "id": "43b7f524-b9c2-480c-9efd-710f445b07cb",
   "metadata": {},
   "outputs": [],
   "source": [
    "nba_sqlite = sqlite3.connect('nba.db')"
   ]
  },
  {
   "cell_type": "code",
   "execution_count": 3,
   "id": "14228704-eb65-4eb4-9078-7b1d5f2f5a7c",
   "metadata": {},
   "outputs": [],
   "source": [
    "players = pd.read_sql('SELECT * FROM players', nba_sqlite)\n",
    "player_game = pd.read_sql('SELECT * FROM player_game', nba_sqlite)\n",
    "team_game = pd.read_sql('SELECT * FROM team_game', nba_sqlite)\n",
    "games = pd.read_sql('SELECT * FROM games', nba_sqlite)"
   ]
  },
  {
   "cell_type": "markdown",
   "id": "f8349a2e-752f-4b27-848c-e8ab0872ce1f",
   "metadata": {},
   "source": [
    "### 2. Connect to Postgres Server"
   ]
  },
  {
   "cell_type": "code",
   "execution_count": 5,
   "id": "6bb9638b-0eea-4505-a919-1f36b58d5d92",
   "metadata": {},
   "outputs": [],
   "source": [
    "pgpassword = os.environ['POSTGRES_PASSWORD']"
   ]
  },
  {
   "cell_type": "code",
   "execution_count": 6,
   "id": "4224ea55-8582-4fe8-b7e1-d07f7d97f28d",
   "metadata": {},
   "outputs": [],
   "source": [
    "server = psycopg2.connect(\n",
    "    user = 'postgres',\n",
    "    password = pgpassword,\n",
    "    host = 'postgres',\n",
    "    port = '5432'\n",
    ")\n",
    "server.autocommit = True"
   ]
  },
  {
   "cell_type": "markdown",
   "id": "2d7e1ea0-7a17-4d51-961f-102e3d4e1db9",
   "metadata": {},
   "source": [
    "### 3. Create a new empty database for the NBA data"
   ]
  },
  {
   "cell_type": "code",
   "execution_count": 8,
   "id": "9118d36b-f03e-4fa2-b79a-907a954cca68",
   "metadata": {},
   "outputs": [],
   "source": [
    "cursor = server.cursor()"
   ]
  },
  {
   "cell_type": "code",
   "execution_count": 9,
   "id": "81b8a26e-e84f-4726-8f72-4f3b14a38cfb",
   "metadata": {},
   "outputs": [],
   "source": [
    "try: \n",
    "    cursor.execute(\"CREATE DATABASE nba\")\n",
    "except:\n",
    "    cursor.execute(\"DROP DATABASE nba\")\n",
    "    cursor.execute(\"CREATE DATABASE nba\")"
   ]
  },
  {
   "cell_type": "markdown",
   "id": "0c13056e-0ef4-40b8-b274-5e2f49ca5ca1",
   "metadata": {},
   "source": [
    "### 4. Load the four NBA tables into this Postgres DB"
   ]
  },
  {
   "cell_type": "code",
   "execution_count": 11,
   "id": "f71d41ec-c6ee-456c-9a2b-c69c6dd69266",
   "metadata": {},
   "outputs": [],
   "source": [
    "engine = create_engine('postgresql+psycopg2://{user}:{password}@{host}:{port}/{db}'.format(\n",
    "    user = 'postgres',\n",
    "    password = pgpassword,\n",
    "    host = 'postgres',\n",
    "    port = '5432',\n",
    "    db = 'nba'))"
   ]
  },
  {
   "cell_type": "code",
   "execution_count": 16,
   "id": "9c161ca9-d586-4cfc-b7c6-cc9c7041a0c1",
   "metadata": {},
   "outputs": [
    {
     "data": {
      "text/plain": [
       "31608"
      ]
     },
     "execution_count": 16,
     "metadata": {},
     "output_type": "execute_result"
    }
   ],
   "source": [
    "games.to_sql('games', con = engine, if_exists = 'replace', chunksize = 1000, index = False)\n",
    "players.to_sql('players', con = engine, if_exists = 'replace', chunksize = 1000, index = False)\n",
    "team_game.to_sql('team_game', con = engine, if_exists = 'replace', chunksize = 1000, index = False)\n",
    "player_game.to_sql('player_game', con = engine, if_exists = 'replace', chunksize = 1000, index = False)"
   ]
  },
  {
   "cell_type": "markdown",
   "id": "eff76abe-d6bd-45be-812e-71a1c44929d2",
   "metadata": {},
   "source": [
    "### 5. Do some SQL queries"
   ]
  },
  {
   "cell_type": "code",
   "execution_count": 17,
   "id": "5d9ceb8c-af16-477f-b81a-276b0249c8e4",
   "metadata": {},
   "outputs": [
    {
     "data": {
      "text/html": [
       "<div>\n",
       "<style scoped>\n",
       "    .dataframe tbody tr th:only-of-type {\n",
       "        vertical-align: middle;\n",
       "    }\n",
       "\n",
       "    .dataframe tbody tr th {\n",
       "        vertical-align: top;\n",
       "    }\n",
       "\n",
       "    .dataframe thead th {\n",
       "        text-align: right;\n",
       "    }\n",
       "</style>\n",
       "<table border=\"1\" class=\"dataframe\">\n",
       "  <thead>\n",
       "    <tr style=\"text-align: right;\">\n",
       "      <th></th>\n",
       "      <th>game_id</th>\n",
       "      <th>game_date</th>\n",
       "      <th>OT</th>\n",
       "    </tr>\n",
       "  </thead>\n",
       "  <tbody>\n",
       "    <tr>\n",
       "      <th>0</th>\n",
       "      <td>202204100BRK</td>\n",
       "      <td>2022-04-10</td>\n",
       "      <td>0</td>\n",
       "    </tr>\n",
       "    <tr>\n",
       "      <th>1</th>\n",
       "      <td>202204100CHO</td>\n",
       "      <td>2022-04-10</td>\n",
       "      <td>0</td>\n",
       "    </tr>\n",
       "    <tr>\n",
       "      <th>2</th>\n",
       "      <td>202204100CLE</td>\n",
       "      <td>2022-04-10</td>\n",
       "      <td>0</td>\n",
       "    </tr>\n",
       "    <tr>\n",
       "      <th>3</th>\n",
       "      <td>202204100DAL</td>\n",
       "      <td>2022-04-10</td>\n",
       "      <td>0</td>\n",
       "    </tr>\n",
       "    <tr>\n",
       "      <th>4</th>\n",
       "      <td>202204100DEN</td>\n",
       "      <td>2022-04-10</td>\n",
       "      <td>1</td>\n",
       "    </tr>\n",
       "    <tr>\n",
       "      <th>...</th>\n",
       "      <td>...</td>\n",
       "      <td>...</td>\n",
       "      <td>...</td>\n",
       "    </tr>\n",
       "    <tr>\n",
       "      <th>1225</th>\n",
       "      <td>202110300MIN</td>\n",
       "      <td>2021-10-30</td>\n",
       "      <td>0</td>\n",
       "    </tr>\n",
       "    <tr>\n",
       "      <th>1226</th>\n",
       "      <td>202112150DEN</td>\n",
       "      <td>2021-12-15</td>\n",
       "      <td>0</td>\n",
       "    </tr>\n",
       "    <tr>\n",
       "      <th>1227</th>\n",
       "      <td>202202010MIN</td>\n",
       "      <td>2022-02-01</td>\n",
       "      <td>0</td>\n",
       "    </tr>\n",
       "    <tr>\n",
       "      <th>1228</th>\n",
       "      <td>202203270BOS</td>\n",
       "      <td>2022-03-27</td>\n",
       "      <td>0</td>\n",
       "    </tr>\n",
       "    <tr>\n",
       "      <th>1229</th>\n",
       "      <td>202112270MIN</td>\n",
       "      <td>2021-12-27</td>\n",
       "      <td>0</td>\n",
       "    </tr>\n",
       "  </tbody>\n",
       "</table>\n",
       "<p>1230 rows × 3 columns</p>\n",
       "</div>"
      ],
      "text/plain": [
       "           game_id   game_date  OT\n",
       "0     202204100BRK  2022-04-10   0\n",
       "1     202204100CHO  2022-04-10   0\n",
       "2     202204100CLE  2022-04-10   0\n",
       "3     202204100DAL  2022-04-10   0\n",
       "4     202204100DEN  2022-04-10   1\n",
       "...            ...         ...  ..\n",
       "1225  202110300MIN  2021-10-30   0\n",
       "1226  202112150DEN  2021-12-15   0\n",
       "1227  202202010MIN  2022-02-01   0\n",
       "1228  202203270BOS  2022-03-27   0\n",
       "1229  202112270MIN  2021-12-27   0\n",
       "\n",
       "[1230 rows x 3 columns]"
      ]
     },
     "execution_count": 17,
     "metadata": {},
     "output_type": "execute_result"
    }
   ],
   "source": [
    "myquery = '''\n",
    "SELECT * \n",
    "FROM games\n",
    "'''\n",
    "pd.read_sql(myquery, con=engine)"
   ]
  },
  {
   "cell_type": "code",
   "execution_count": null,
   "id": "ea73470c-6606-4c08-9651-56bcedd6ebb4",
   "metadata": {},
   "outputs": [],
   "source": []
  }
 ],
 "metadata": {
  "kernelspec": {
   "display_name": "Python 3 (ipykernel)",
   "language": "python",
   "name": "python3"
  },
  "language_info": {
   "codemirror_mode": {
    "name": "ipython",
    "version": 3
   },
   "file_extension": ".py",
   "mimetype": "text/x-python",
   "name": "python",
   "nbconvert_exporter": "python",
   "pygments_lexer": "ipython3",
   "version": "3.10.7"
  }
 },
 "nbformat": 4,
 "nbformat_minor": 5
}
