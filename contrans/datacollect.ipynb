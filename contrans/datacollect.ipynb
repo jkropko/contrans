{
 "cells": [
  {
   "cell_type": "code",
   "execution_count": 1,
   "id": "f47e7af7-e84a-4fce-b890-9cc8943b66b9",
   "metadata": {},
   "outputs": [],
   "source": [
    "import pandas as pd\n",
    "import numpy as np"
   ]
  },
  {
   "cell_type": "markdown",
   "id": "5ed7e74a-14c4-46d0-8c02-246e1443b4ee",
   "metadata": {},
   "source": [
    "### Collect data from voteview.com"
   ]
  },
  {
   "cell_type": "code",
   "execution_count": 2,
   "id": "09ad4902-36ec-4ea9-9cc3-9349784bdb86",
   "metadata": {},
   "outputs": [],
   "source": [
    "memideo_url = 'https://voteview.com/static/data/out/members/HSall_members.csv'\n",
    "cvotes_url = 'https://voteview.com/static/data/out/rollcalls/HSall_rollcalls.csv'\n",
    "memvotes_url = 'https://voteview.com/static/data/out/votes/HSall_votes.csv'\n",
    "cparty_url = 'https://voteview.com/static/data/out/parties/HSall_parties.csv'"
   ]
  },
  {
   "cell_type": "code",
   "execution_count": null,
   "id": "a576d6e9-cfaa-44bc-8a98-2f28cc6e80f3",
   "metadata": {},
   "outputs": [],
   "source": [
    "memideo=pd.read_csv(memideo_url)\n",
    "cvotes=pd.read_csv(cvotes_url)\n",
    "memvotes=pd.read_csv(memvotes_url)\n",
    "cparty=pd.read_csv(cparty_url)"
   ]
  },
  {
   "cell_type": "code",
   "execution_count": null,
   "id": "0ca21494-3bb6-4554-b1a5-9e40b4d5d305",
   "metadata": {},
   "outputs": [],
   "source": []
  }
 ],
 "metadata": {
  "kernelspec": {
   "display_name": "Python 3 (ipykernel)",
   "language": "python",
   "name": "python3"
  },
  "language_info": {
   "codemirror_mode": {
    "name": "ipython",
    "version": 3
   },
   "file_extension": ".py",
   "mimetype": "text/x-python",
   "name": "python",
   "nbconvert_exporter": "python",
   "pygments_lexer": "ipython3",
   "version": "3.10.7"
  }
 },
 "nbformat": 4,
 "nbformat_minor": 5
}
