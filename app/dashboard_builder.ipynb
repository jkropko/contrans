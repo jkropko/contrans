{
 "cells": [
  {
   "cell_type": "code",
   "execution_count": 1,
   "id": "9e616408-ded6-44bf-ba3d-f2b1c4c7fa20",
   "metadata": {},
   "outputs": [],
   "source": [
    "import pandas as pd\n",
    "import numpy as np\n",
    "import dash\n",
    "from jupyter_dash import JupyterDash\n",
    "from dash import dcc\n",
    "from dash import html\n",
    "from dash.dependencies import Input, Output, State\n",
    "import dash_bootstrap_components as dbc"
   ]
  },
  {
   "cell_type": "code",
   "execution_count": 2,
   "id": "266823d9-8cd1-4a0d-b7ff-3c39f039325d",
   "metadata": {},
   "outputs": [],
   "source": [
    "#external_stylesheets = ['https://codepen.io/chriddyp/pen/bWLwgP.css']\n",
    "external_stylesheets = [dbc.themes.SUPERHERO]"
   ]
  },
  {
   "cell_type": "markdown",
   "id": "bb71fa02-b689-4e37-9885-bec570d2b554",
   "metadata": {},
   "source": [
    "## Initialize the app"
   ]
  },
  {
   "cell_type": "code",
   "execution_count": 3,
   "id": "dee007f5-105a-431e-8a55-e4a7d9509739",
   "metadata": {},
   "outputs": [],
   "source": [
    "app = JupyterDash(__name__, external_stylesheets=external_stylesheets)\n",
    "#app = dash.Dash(__name__, external_stylesheets=external_stylesheets)"
   ]
  },
  {
   "cell_type": "markdown",
   "id": "042b3e0d-8d4f-479e-bc4d-d33bad51d1d6",
   "metadata": {},
   "source": [
    "## Specify the contents of the dashboard"
   ]
  },
  {
   "cell_type": "code",
   "execution_count": 4,
   "id": "ec7fec92-5005-4b74-8c56-d78e6b3b77cb",
   "metadata": {},
   "outputs": [],
   "source": [
    "app.layout = html.Div(\n",
    "[\n",
    "    html.H1(\"Bill and Ted's Excellent Dashboard\"),\n",
    "    \n",
    "    dcc.Input(id = 'username', type = 'text', placeholder = 'Please type your name here'),\n",
    "    \n",
    "    dcc.Markdown(id = 'countletters')\n",
    "]\n",
    "\n",
    ")"
   ]
  },
  {
   "cell_type": "markdown",
   "id": "13d9ba7e-7946-402a-8688-383bfcfd5ec2",
   "metadata": {},
   "source": [
    "## Callbacks"
   ]
  },
  {
   "cell_type": "code",
   "execution_count": 5,
   "id": "b028d765-34ad-4dcd-b14d-2e2b436dedce",
   "metadata": {},
   "outputs": [],
   "source": [
    "@app.callback(Output(component_id = 'countletters', component_property = 'children'), \n",
    "              Input(component_id = 'username', component_property = 'value'))\n",
    "\n",
    "def countletters(name):\n",
    "    n = str(name).replace(' ','')\n",
    "    return f\"You have {len(n)} letters in your name dude!\"\n",
    "\n",
    "\n"
   ]
  },
  {
   "cell_type": "code",
   "execution_count": null,
   "id": "31642b76-c3ed-477a-99fe-8bc926325d10",
   "metadata": {},
   "outputs": [],
   "source": []
  },
  {
   "cell_type": "code",
   "execution_count": null,
   "id": "a25dfda3-bb06-4f54-b040-654e16586b14",
   "metadata": {},
   "outputs": [],
   "source": []
  },
  {
   "cell_type": "markdown",
   "id": "5743b385-fa74-46f0-9292-bd5631959967",
   "metadata": {},
   "source": [
    "## Run the app"
   ]
  },
  {
   "cell_type": "code",
   "execution_count": 6,
   "id": "7ae26f5d-69ac-4f61-a1c4-5440bebd2ee3",
   "metadata": {},
   "outputs": [
    {
     "name": "stdout",
     "output_type": "stream",
     "text": [
      "Dash app running on http://0.0.0.0:8050/\n"
     ]
    }
   ],
   "source": [
    "if __name__== \"__main__\":\n",
    "    app.run_server(mode= 'external', host = \"0.0.0.0\", debug=True)"
   ]
  },
  {
   "cell_type": "code",
   "execution_count": null,
   "id": "da55ec35-e5ea-4f7b-9667-1c188dae2a95",
   "metadata": {},
   "outputs": [],
   "source": []
  }
 ],
 "metadata": {
  "kernelspec": {
   "display_name": "Python 3 (ipykernel)",
   "language": "python",
   "name": "python3"
  },
  "language_info": {
   "codemirror_mode": {
    "name": "ipython",
    "version": 3
   },
   "file_extension": ".py",
   "mimetype": "text/x-python",
   "name": "python",
   "nbconvert_exporter": "python",
   "pygments_lexer": "ipython3",
   "version": "3.11.0"
  }
 },
 "nbformat": 4,
 "nbformat_minor": 5
}
